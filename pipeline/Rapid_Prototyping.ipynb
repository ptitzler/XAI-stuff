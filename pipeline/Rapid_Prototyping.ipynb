{
 "cells": [
  {
   "cell_type": "code",
   "execution_count": 24,
   "metadata": {},
   "outputs": [
    {
     "name": "stdout",
     "output_type": "stream",
     "text": [
      "Requirement already satisfied: graphviz in /Users/patti/anaconda3/envs/elyra_ga/lib/python3.7/site-packages (0.14.2)\n",
      "Requirement already satisfied: sklearn in /Users/patti/anaconda3/envs/elyra_ga/lib/python3.7/site-packages (0.0)\n",
      "Requirement already satisfied: scikit-learn in /Users/patti/anaconda3/envs/elyra_ga/lib/python3.7/site-packages (from sklearn) (0.23.2)\n",
      "Requirement already satisfied: joblib>=0.11 in /Users/patti/anaconda3/envs/elyra_ga/lib/python3.7/site-packages (from scikit-learn->sklearn) (0.17.0)\n",
      "Requirement already satisfied: numpy>=1.13.3 in /Users/patti/anaconda3/envs/elyra_ga/lib/python3.7/site-packages (from scikit-learn->sklearn) (1.19.2)\n",
      "Requirement already satisfied: scipy>=0.19.1 in /Users/patti/anaconda3/envs/elyra_ga/lib/python3.7/site-packages (from scikit-learn->sklearn) (1.5.2)\n",
      "Requirement already satisfied: threadpoolctl>=2.0.0 in /Users/patti/anaconda3/envs/elyra_ga/lib/python3.7/site-packages (from scikit-learn->sklearn) (2.1.0)\n",
      "Requirement already satisfied: lale in /Users/patti/anaconda3/envs/elyra_ga/lib/python3.7/site-packages (0.4.6)\n",
      "Requirement already satisfied: decorator in /Users/patti/anaconda3/envs/elyra_ga/lib/python3.7/site-packages (from lale) (4.4.2)\n",
      "Requirement already satisfied: jsonschema in /Users/patti/.local/lib/python3.7/site-packages (from lale) (3.2.0)\n",
      "Requirement already satisfied: numpy in /Users/patti/anaconda3/envs/elyra_ga/lib/python3.7/site-packages (from lale) (1.19.2)\n",
      "Requirement already satisfied: pandas in /Users/patti/anaconda3/envs/elyra_ga/lib/python3.7/site-packages (from lale) (1.1.3)\n",
      "Requirement already satisfied: jsonsubschema in /Users/patti/anaconda3/envs/elyra_ga/lib/python3.7/site-packages (from lale) (0.0.1)\n",
      "Requirement already satisfied: black in /Users/patti/anaconda3/envs/elyra_ga/lib/python3.7/site-packages (from lale) (20.8b1)\n",
      "Requirement already satisfied: astunparse in /Users/patti/anaconda3/envs/elyra_ga/lib/python3.7/site-packages (from lale) (1.6.3)\n",
      "Requirement already satisfied: h5py in /Users/patti/anaconda3/envs/elyra_ga/lib/python3.7/site-packages (from lale) (2.10.0)\n",
      "Requirement already satisfied: scipy in /Users/patti/anaconda3/envs/elyra_ga/lib/python3.7/site-packages (from lale) (1.5.2)\n",
      "Requirement already satisfied: hyperopt==0.2.3 in /Users/patti/anaconda3/envs/elyra_ga/lib/python3.7/site-packages (from lale) (0.2.3)\n",
      "Requirement already satisfied: scikit-learn>=0.20.3 in /Users/patti/anaconda3/envs/elyra_ga/lib/python3.7/site-packages (from lale) (0.23.2)\n",
      "Requirement already satisfied: graphviz in /Users/patti/anaconda3/envs/elyra_ga/lib/python3.7/site-packages (from lale) (0.14.2)\n",
      "Requirement already satisfied: importlib-metadata; python_version < \"3.8\" in /Users/patti/.local/lib/python3.7/site-packages (from jsonschema->lale) (1.6.0)\n",
      "Requirement already satisfied: attrs>=17.4.0 in /Users/patti/.local/lib/python3.7/site-packages (from jsonschema->lale) (19.3.0)\n",
      "Requirement already satisfied: pyrsistent>=0.14.0 in /Users/patti/.local/lib/python3.7/site-packages (from jsonschema->lale) (0.16.0)\n",
      "Requirement already satisfied: setuptools in /Users/patti/anaconda3/envs/elyra_ga/lib/python3.7/site-packages (from jsonschema->lale) (49.6.0.post20200925)\n",
      "Requirement already satisfied: six>=1.11.0 in /Users/patti/.local/lib/python3.7/site-packages (from jsonschema->lale) (1.14.0)\n",
      "Requirement already satisfied: python-dateutil>=2.7.3 in /Users/patti/.local/lib/python3.7/site-packages (from pandas->lale) (2.8.1)\n",
      "Requirement already satisfied: pytz>=2017.2 in /Users/patti/.local/lib/python3.7/site-packages (from pandas->lale) (2020.1)\n",
      "Requirement already satisfied: python-intervals in /Users/patti/anaconda3/envs/elyra_ga/lib/python3.7/site-packages (from jsonsubschema->lale) (1.10.0.post1)\n",
      "Requirement already satisfied: greenery in /Users/patti/anaconda3/envs/elyra_ga/lib/python3.7/site-packages (from jsonsubschema->lale) (3.2)\n",
      "Requirement already satisfied: click>=7.1.2 in /Users/patti/anaconda3/envs/elyra_ga/lib/python3.7/site-packages (from black->lale) (7.1.2)\n",
      "Requirement already satisfied: mypy-extensions>=0.4.3 in /Users/patti/anaconda3/envs/elyra_ga/lib/python3.7/site-packages (from black->lale) (0.4.3)\n",
      "Requirement already satisfied: toml>=0.10.1 in /Users/patti/anaconda3/envs/elyra_ga/lib/python3.7/site-packages (from black->lale) (0.10.1)\n",
      "Requirement already satisfied: pathspec<1,>=0.6 in /Users/patti/anaconda3/envs/elyra_ga/lib/python3.7/site-packages (from black->lale) (0.8.0)\n",
      "Requirement already satisfied: regex>=2020.1.8 in /Users/patti/anaconda3/envs/elyra_ga/lib/python3.7/site-packages (from black->lale) (2020.9.27)\n",
      "Requirement already satisfied: appdirs in /Users/patti/anaconda3/envs/elyra_ga/lib/python3.7/site-packages (from black->lale) (1.4.4)\n",
      "Requirement already satisfied: typed-ast>=1.4.0 in /Users/patti/anaconda3/envs/elyra_ga/lib/python3.7/site-packages (from black->lale) (1.4.1)\n",
      "Requirement already satisfied: typing-extensions>=3.7.4 in /Users/patti/anaconda3/envs/elyra_ga/lib/python3.7/site-packages (from black->lale) (3.7.4.3)\n",
      "Requirement already satisfied: wheel<1.0,>=0.23.0 in /Users/patti/anaconda3/envs/elyra_ga/lib/python3.7/site-packages (from astunparse->lale) (0.35.1)\n",
      "Requirement already satisfied: tqdm in /Users/patti/anaconda3/envs/elyra_ga/lib/python3.7/site-packages (from hyperopt==0.2.3->lale) (4.50.0)\n",
      "Requirement already satisfied: cloudpickle in /Users/patti/anaconda3/envs/elyra_ga/lib/python3.7/site-packages (from hyperopt==0.2.3->lale) (1.6.0)\n",
      "Requirement already satisfied: networkx==2.2 in /Users/patti/anaconda3/envs/elyra_ga/lib/python3.7/site-packages (from hyperopt==0.2.3->lale) (2.2)\n",
      "Requirement already satisfied: future in /Users/patti/anaconda3/envs/elyra_ga/lib/python3.7/site-packages (from hyperopt==0.2.3->lale) (0.18.2)\n",
      "Requirement already satisfied: threadpoolctl>=2.0.0 in /Users/patti/anaconda3/envs/elyra_ga/lib/python3.7/site-packages (from scikit-learn>=0.20.3->lale) (2.1.0)\n",
      "Requirement already satisfied: joblib>=0.11 in /Users/patti/anaconda3/envs/elyra_ga/lib/python3.7/site-packages (from scikit-learn>=0.20.3->lale) (0.17.0)\n",
      "Requirement already satisfied: zipp>=0.5 in /Users/patti/.local/lib/python3.7/site-packages (from importlib-metadata; python_version < \"3.8\"->jsonschema->lale) (3.1.0)\n",
      "Requirement already satisfied: xgboost in /Users/patti/anaconda3/envs/elyra_ga/lib/python3.7/site-packages (1.2.1)\n",
      "Requirement already satisfied: scipy in /Users/patti/anaconda3/envs/elyra_ga/lib/python3.7/site-packages (from xgboost) (1.5.2)\n",
      "Requirement already satisfied: numpy in /Users/patti/anaconda3/envs/elyra_ga/lib/python3.7/site-packages (from xgboost) (1.19.2)\n"
     ]
    }
   ],
   "source": [
    "! pip install graphviz\n",
    "! pip install sklearn\n",
    "! pip install lale\n",
    "! pip install xgboost"
   ]
  },
  {
   "cell_type": "code",
   "execution_count": 25,
   "metadata": {},
   "outputs": [],
   "source": [
    "import pandas as pd\n",
    "import numpy as np"
   ]
  },
  {
   "cell_type": "code",
   "execution_count": 26,
   "metadata": {},
   "outputs": [],
   "source": [
    "df = pd.read_csv('data/bank-additional/bank-additional-full.csv',\\\n",
    "                 sep = ';')\n",
    "\n",
    "df = df.drop(['duration', 'poutcome'], axis=1)"
   ]
  },
  {
   "cell_type": "code",
   "execution_count": 27,
   "metadata": {},
   "outputs": [
    {
     "name": "stdout",
     "output_type": "stream",
     "text": [
      "['age', 'campaign', 'pdays', 'previous', 'emp.var.rate', 'cons.price.idx', 'cons.conf.idx', 'euribor3m', 'nr.employed'] \n",
      " ['job', 'marital', 'education', 'default', 'housing', 'loan', 'contact', 'month', 'day_of_week']\n"
     ]
    }
   ],
   "source": [
    "from sklearn.model_selection import train_test_split\n",
    "from sklearn.preprocessing import OrdinalEncoder\n",
    "X, y = df.loc[:, df.columns != 'y'], df['y'].map(dict(yes=1, no=0))\n",
    "\n",
    "enc = OrdinalEncoder()\n",
    "enc.fit(X)\n",
    "X_en = enc.transform(X)\n",
    "X_en = pd.DataFrame(X_en, columns = X.columns)\n",
    "\n",
    "\n",
    "X_train, X_test, y_train, y_test = train_test_split(X, y, test_size = 0.2)\n",
    "\n",
    "X_train_e, X_test_e, y_train_e, y_test_e = train_test_split(X_en, y, test_size = 0.2)\n",
    "#lets group different types\n",
    "num_cols = [col for col in X_train.columns if np.issubdtype(X_train.dtypes[col], np.number)]\n",
    "cat_cols = [col for col in X_train.columns if col not in num_cols]\n",
    "print(num_cols, '\\n',  cat_cols)"
   ]
  },
  {
   "cell_type": "code",
   "execution_count": 28,
   "metadata": {},
   "outputs": [],
   "source": [
    "from sklearn.preprocessing import Normalizer as Norm\n",
    "from sklearn.preprocessing import LabelEncoder as LabelEncoder\n",
    "from sklearn.preprocessing import OneHotEncoder as OneHot\n",
    "from sklearn.preprocessing import OrdinalEncoder as OrdinalEncoder\n",
    "from lale.lib.lale import NoOp\n",
    "import sklearn\n",
    "import lale\n",
    "\n",
    "#helper functions\n",
    "from sklearn.compose import ColumnTransformer\n",
    "from lale.operators import make_pipeline\n",
    "from lale.pretty_print import ipython_display\n",
    "\n",
    "#algorithms\n",
    "from sklearn.linear_model import LogisticRegression as LR\n",
    "from xgboost import XGBClassifier as XGBoost\n",
    "# from sklearn.neighbors import KNeighborsClassifier as KNN\n",
    "from sklearn.tree import DecisionTreeClassifier as Tree\n",
    "\n",
    "lale.wrap_imported_operators()"
   ]
  },
  {
   "cell_type": "code",
   "execution_count": 29,
   "metadata": {},
   "outputs": [
    {
     "data": {
      "image/svg+xml": [
       "<?xml version=\"1.0\" encoding=\"UTF-8\" standalone=\"no\"?>\n",
       "<!DOCTYPE svg PUBLIC \"-//W3C//DTD SVG 1.1//EN\"\n",
       " \"http://www.w3.org/Graphics/SVG/1.1/DTD/svg11.dtd\">\n",
       "<!-- Generated by graphviz version 2.44.1 (20200629.0846)\n",
       " -->\n",
       "<!-- Title: cluster:(root) Pages: 1 -->\n",
       "<svg width=\"226pt\" height=\"319pt\"\n",
       " viewBox=\"0.00 0.00 226.05 319.00\" xmlns=\"http://www.w3.org/2000/svg\" xmlns:xlink=\"http://www.w3.org/1999/xlink\">\n",
       "<g id=\"graph0\" class=\"graph\" transform=\"scale(1 1) rotate(0) translate(4 315)\">\n",
       "<title>cluster:(root)</title>\n",
       "<g id=\"a_graph0\"><a xlink:title=\"(root) = ...\">\n",
       "<polygon fill=\"white\" stroke=\"transparent\" points=\"-4,4 -4,-315 222.05,-315 222.05,4 -4,4\"/>\n",
       "</a>\n",
       "</g>\n",
       "<g id=\"clust1\" class=\"cluster\">\n",
       "<title>cluster:column_transformer</title>\n",
       "<g id=\"a_clust1\"><a xlink:href=\"https://lale.readthedocs.io/en/latest/modules/lale.lib.sklearn.column_transformer.html\" xlink:title=\"column_transformer = ColumnTransformer(transformers=[(&#39;num_tfm&#39;, choice, [&#39;age&#39;, &#39;campaign&#39;, &#39;pdays&#39;, &#39;previous&#39;, &#39;emp.var.rate&#39;, &#39;cons.price.idx&#39;, &#39;cons.conf.idx&#39;, &#39;euribor3m&#39;, &#39;nr.employed&#39;]), (&#39;cat_tfm&#39;, choice_0, [&#39;job&#39;, &#39;marital&#39;, &#39;education&#39;, &#39;default&#39;, &#39;housing&#39;, &#39;loan&#39;, &#39;contact&#39;, &#39;...)\">\n",
       "<polygon fill=\"#b0e2ff\" stroke=\"black\" points=\"0,-8 0,-303 128.05,-303 128.05,-8 0,-8\"/>\n",
       "<text text-anchor=\"middle\" x=\"64.03\" y=\"-287.8\" font-family=\"Times,serif\" font-size=\"14.00\">ColumnTransformer</text>\n",
       "</a>\n",
       "</g>\n",
       "</g>\n",
       "<g id=\"clust2\" class=\"cluster\">\n",
       "<title>cluster:choice</title>\n",
       "<g id=\"a_clust2\"><a xlink:href=\"https://lale.readthedocs.io/en/latest/modules/lale.lib.sklearn.column_transformer.html\" xlink:title=\"choice = norm | no_op\">\n",
       "<polygon fill=\"#7ec0ee\" stroke=\"black\" points=\"28.53,-150 28.53,-272 98.53,-272 98.53,-150 28.53,-150\"/>\n",
       "<text text-anchor=\"middle\" x=\"63.53\" y=\"-256.8\" font-family=\"Times,serif\" font-size=\"14.00\">Choice</text>\n",
       "</a>\n",
       "</g>\n",
       "</g>\n",
       "<g id=\"clust3\" class=\"cluster\">\n",
       "<title>cluster:choice_0</title>\n",
       "<g id=\"a_clust3\"><a xlink:href=\"https://lale.readthedocs.io/en/latest/modules/lale.lib.sklearn.column_transformer.html\" xlink:title=\"choice_0 = one_hot | ordinal_encoder\">\n",
       "<polygon fill=\"#7ec0ee\" stroke=\"black\" points=\"23,-16 23,-142 104.05,-142 104.05,-16 23,-16\"/>\n",
       "<text text-anchor=\"middle\" x=\"63.53\" y=\"-126.8\" font-family=\"Times,serif\" font-size=\"14.00\">Choice</text>\n",
       "</a>\n",
       "</g>\n",
       "</g>\n",
       "<g id=\"clust4\" class=\"cluster\">\n",
       "<title>cluster:choice_1</title>\n",
       "<g id=\"a_clust4\"><a xlink:title=\"choice_1 = lr | xg_boost | tree\">\n",
       "<polygon fill=\"#7ec0ee\" stroke=\"black\" points=\"140.05,-107 140.05,-272 210.05,-272 210.05,-107 140.05,-107\"/>\n",
       "<text text-anchor=\"middle\" x=\"175.05\" y=\"-256.8\" font-family=\"Times,serif\" font-size=\"14.00\">Choice</text>\n",
       "</a>\n",
       "</g>\n",
       "</g>\n",
       "<!-- norm -->\n",
       "<g id=\"node1\" class=\"node\">\n",
       "<title>norm</title>\n",
       "<g id=\"a_node1\"><a xlink:href=\"https://lale.readthedocs.io/en/latest/modules/lale.lib.sklearn.normalizer.html\" xlink:title=\"norm = Norm\">\n",
       "<ellipse fill=\"#7ec0ee\" stroke=\"black\" cx=\"63.53\" cy=\"-223\" rx=\"27\" ry=\"18\"/>\n",
       "<text text-anchor=\"middle\" x=\"63.53\" y=\"-220.2\" font-family=\"Times,serif\" font-size=\"11.00\">Norm</text>\n",
       "</a>\n",
       "</g>\n",
       "</g>\n",
       "<!-- lr -->\n",
       "<g id=\"node5\" class=\"node\">\n",
       "<title>lr</title>\n",
       "<g id=\"a_node5\"><a xlink:href=\"https://lale.readthedocs.io/en/latest/modules/lale.lib.sklearn.logistic_regression.html\" xlink:title=\"lr = LR\">\n",
       "<ellipse fill=\"#7ec0ee\" stroke=\"black\" cx=\"175.05\" cy=\"-223\" rx=\"27\" ry=\"18\"/>\n",
       "<text text-anchor=\"middle\" x=\"175.05\" y=\"-220.2\" font-family=\"Times,serif\" font-size=\"11.00\">LR</text>\n",
       "</a>\n",
       "</g>\n",
       "</g>\n",
       "<!-- norm&#45;&gt;lr -->\n",
       "<g id=\"edge1\" class=\"edge\">\n",
       "<title>norm&#45;&gt;lr</title>\n",
       "<path fill=\"none\" stroke=\"black\" d=\"M128.05,-223C131.37,-223 134.64,-223 137.81,-223\"/>\n",
       "<polygon fill=\"black\" stroke=\"black\" points=\"130.05,-226.5 140.05,-223 130.05,-219.5 130.05,-226.5\"/>\n",
       "</g>\n",
       "<!-- no_op -->\n",
       "<g id=\"node2\" class=\"node\">\n",
       "<title>no_op</title>\n",
       "<g id=\"a_node2\"><a xlink:href=\"https://lale.readthedocs.io/en/latest/modules/lale.lib.lale.no_op.html\" xlink:title=\"no_op = NoOp\">\n",
       "<ellipse fill=\"white\" stroke=\"black\" cx=\"63.53\" cy=\"-178\" rx=\"27\" ry=\"19.6\"/>\n",
       "<text text-anchor=\"middle\" x=\"63.53\" y=\"-181.2\" font-family=\"Times,serif\" font-size=\"11.00\">No&#45;</text>\n",
       "<text text-anchor=\"middle\" x=\"63.53\" y=\"-169.2\" font-family=\"Times,serif\" font-size=\"11.00\">Op</text>\n",
       "</a>\n",
       "</g>\n",
       "</g>\n",
       "<!-- one_hot -->\n",
       "<g id=\"node3\" class=\"node\">\n",
       "<title>one_hot</title>\n",
       "<g id=\"a_node3\"><a xlink:href=\"https://lale.readthedocs.io/en/latest/modules/lale.lib.sklearn.one_hot_encoder.html\" xlink:title=\"one_hot = OneHot\">\n",
       "<ellipse fill=\"#7ec0ee\" stroke=\"black\" cx=\"63.53\" cy=\"-91\" rx=\"27\" ry=\"19.6\"/>\n",
       "<text text-anchor=\"middle\" x=\"63.53\" y=\"-94.2\" font-family=\"Times,serif\" font-size=\"11.00\">One&#45;</text>\n",
       "<text text-anchor=\"middle\" x=\"63.53\" y=\"-82.2\" font-family=\"Times,serif\" font-size=\"11.00\">Hot</text>\n",
       "</a>\n",
       "</g>\n",
       "</g>\n",
       "<!-- ordinal_encoder -->\n",
       "<g id=\"node4\" class=\"node\">\n",
       "<title>ordinal_encoder</title>\n",
       "<g id=\"a_node4\"><a xlink:href=\"https://lale.readthedocs.io/en/latest/modules/lale.lib.sklearn.ordinal_encoder.html\" xlink:title=\"ordinal_encoder = OrdinalEncoder\">\n",
       "<ellipse fill=\"#7ec0ee\" stroke=\"black\" cx=\"63.53\" cy=\"-44\" rx=\"32.55\" ry=\"19.6\"/>\n",
       "<text text-anchor=\"middle\" x=\"63.53\" y=\"-47.2\" font-family=\"Times,serif\" font-size=\"11.00\">Ordinal&#45;</text>\n",
       "<text text-anchor=\"middle\" x=\"63.53\" y=\"-35.2\" font-family=\"Times,serif\" font-size=\"11.00\">Encoder</text>\n",
       "</a>\n",
       "</g>\n",
       "</g>\n",
       "<!-- xg_boost -->\n",
       "<g id=\"node6\" class=\"node\">\n",
       "<title>xg_boost</title>\n",
       "<g id=\"a_node6\"><a xlink:href=\"https://lale.readthedocs.io/en/latest/modules/lale.lib.xgboost.xgb_classifier.html\" xlink:title=\"xg_boost = XGBoost\">\n",
       "<ellipse fill=\"#7ec0ee\" stroke=\"black\" cx=\"175.05\" cy=\"-178\" rx=\"27\" ry=\"19.6\"/>\n",
       "<text text-anchor=\"middle\" x=\"175.05\" y=\"-181.2\" font-family=\"Times,serif\" font-size=\"11.00\">XG&#45;</text>\n",
       "<text text-anchor=\"middle\" x=\"175.05\" y=\"-169.2\" font-family=\"Times,serif\" font-size=\"11.00\">Boost</text>\n",
       "</a>\n",
       "</g>\n",
       "</g>\n",
       "<!-- tree -->\n",
       "<g id=\"node7\" class=\"node\">\n",
       "<title>tree</title>\n",
       "<g id=\"a_node7\"><a xlink:href=\"https://lale.readthedocs.io/en/latest/modules/lale.lib.sklearn.decision_tree_classifier.html\" xlink:title=\"tree = Tree\">\n",
       "<ellipse fill=\"#7ec0ee\" stroke=\"black\" cx=\"175.05\" cy=\"-133\" rx=\"27\" ry=\"18\"/>\n",
       "<text text-anchor=\"middle\" x=\"175.05\" y=\"-130.2\" font-family=\"Times,serif\" font-size=\"11.00\">Tree</text>\n",
       "</a>\n",
       "</g>\n",
       "</g>\n",
       "</g>\n",
       "</svg>\n"
      ],
      "text/plain": [
       "<graphviz.dot.Digraph at 0x7ff86ec680d0>"
      ]
     },
     "metadata": {},
     "output_type": "display_data"
    }
   ],
   "source": [
    "pipeline_planned = ColumnTransformer(transformers=[\n",
    "        ('num_tfm', Norm | NoOp, num_cols),\n",
    "        ('cat_tfm', OneHot | OrdinalEncoder, cat_cols)]) >> (\n",
    "    LR | XGBoost | Tree)\n",
    "pipeline_planned.visualize()"
   ]
  },
  {
   "cell_type": "code",
   "execution_count": 30,
   "metadata": {},
   "outputs": [
    {
     "name": "stdout",
     "output_type": "stream",
     "text": [
      "100%|██████████| 5/5 [08:36<00:00, 103.31s/trial, best loss: -0.896722306525038]\n"
     ]
    }
   ],
   "source": [
    "from lale.lib.lale import Hyperopt\n",
    "#hyperopt natively uses Cross Validation\n",
    "#THIS WILL FAIL OCCASSIONALLY, NEEDS TO BE REWORKED ON BACK END TO SEND SCHEMA, NON TRIVIAL\n",
    "optimizer = Hyperopt(estimator=pipeline_planned, max_evals = 5, scoring='accuracy', verbose = True)\n",
    "trained_optimizer = optimizer.fit(X_train, y_train)"
   ]
  },
  {
   "cell_type": "code",
   "execution_count": null,
   "metadata": {},
   "outputs": [],
   "source": [
    "trained_optimizer.summary()"
   ]
  },
  {
   "cell_type": "code",
   "execution_count": null,
   "metadata": {},
   "outputs": [],
   "source": [
    "best_estimator = trained_optimizer.summary().loss.argmin()\n",
    "worst_estimator = trained_optimizer.summary().loss.argmax()\n",
    "print(f'The best pipeline is {best_estimator} and the worst pipeline is {worst_estimator}')"
   ]
  },
  {
   "cell_type": "code",
   "execution_count": 32,
   "metadata": {},
   "outputs": [
    {
     "name": "stdout",
     "output_type": "stream",
     "text": [
      "accuracy 11.5%\n",
      "ROC 50.0%\n"
     ]
    }
   ],
   "source": [
    "import sklearn.metrics\n",
    "predictions = trained_optimizer.predict(X_test)\n",
    "print(f'accuracy {sklearn.metrics.accuracy_score(y_test, predictions):.1%}')\n",
    "print(f'ROC {sklearn.metrics.roc_auc_score(y_test, predictions):.1%}')"
   ]
  },
  {
   "cell_type": "code",
   "execution_count": 10,
   "metadata": {},
   "outputs": [
    {
     "name": "stdout",
     "output_type": "stream",
     "text": [
      "100%|██████████| 5/5 [00:00<?, ?trial/s, best loss=?]\n",
      "100%|██████████| 5/5 [00:00<?, ?trial/s, best loss=?]\n",
      "100%|██████████| 5/5 [00:00<?, ?trial/s, best loss=?]\n",
      "100%|██████████| 5/5 [00:00<?, ?trial/s, best loss=?]\n",
      "100%|██████████| 5/5 [00:00<?, ?trial/s, best loss=?]\n",
      "100%|██████████| 5/5 [00:00<?, ?trial/s, best loss=?]\n",
      "100%|██████████| 5/5 [00:00<?, ?trial/s, best loss=?]\n",
      "100%|██████████| 5/5 [00:00<?, ?trial/s, best loss=?]\n",
      "100%|██████████| 5/5 [00:00<?, ?trial/s, best loss=?]\n",
      "100%|██████████| 5/5 [00:00<?, ?trial/s, best loss=?]\n"
     ]
    },
    {
     "data": {
      "text/plain": [
       "['fit_time', 'score_time', 'test_score']"
      ]
     },
     "execution_count": 10,
     "metadata": {},
     "output_type": "execute_result"
    }
   ],
   "source": [
    "#this may end up being overkill but it shows that we can take Lale acc \n",
    "from sklearn.model_selection import cross_validate as cross_validate\n",
    "cv_results = cross_validate(trained_optimizer,  X, y, cv=10,\n",
    "                           scoring=('accuracy'))\n",
    "sorted(cv_results.keys())"
   ]
  },
  {
   "cell_type": "code",
   "execution_count": 11,
   "metadata": {},
   "outputs": [
    {
     "data": {
      "text/plain": [
       "array([0.02767662, 0.03520272, 0.04224326, 0.06627822, 0.06239378,\n",
       "       0.05462491, 0.10172372, 0.11968924, 0.15735794, 0.45944633])"
      ]
     },
     "execution_count": 11,
     "metadata": {},
     "output_type": "execute_result"
    }
   ],
   "source": [
    "cv_results['test_score']"
   ]
  },
  {
   "cell_type": "code",
   "execution_count": 12,
   "metadata": {},
   "outputs": [
    {
     "name": "stdout",
     "output_type": "stream",
     "text": [
      "Accuracy: 0.11 (+/- 0.12)\n"
     ]
    }
   ],
   "source": [
    "print(\"Accuracy: %0.2f (+/- %0.2f)\" % (cv_results['test_score'].mean(), cv_results['test_score'].std()))\n"
   ]
  },
  {
   "cell_type": "code",
   "execution_count": 23,
   "metadata": {},
   "outputs": [],
   "source": [
    "###Second pipeline with explainable algorithms only\n",
    "from sklearn.decomposition import PCA\n",
    "from sklearn.neighbors import KNeighborsClassifier as KNN\n",
    "from sklearn.preprocessing import StandardScaler as SS\n",
    "\n",
    "lale.wrap_imported_operators()\n",
    "\n",
    "exp_pipe =SS >> (Norm | NoOp | PCA) >> (KNN | LR | Tree)\n",
    "exp_pipe_trainable = Hyperopt(estimator = exp_pipe, max_evals = 5, scoring='accuracy', verbose = True)"
   ]
  },
  {
   "cell_type": "code",
   "execution_count": 24,
   "metadata": {},
   "outputs": [
    {
     "name": "stdout",
     "output_type": "stream",
     "text": [
      "100%|██████████| 5/5 [00:53<00:00, 10.66s/trial, best loss: -0.8959028831562975]\n"
     ]
    }
   ],
   "source": [
    "#variables must be encoded before they are entered\n",
    "exp_pipe_trained = exp_pipe_trainable.fit(X_train_e, y_train_e)"
   ]
  },
  {
   "cell_type": "code",
   "execution_count": 25,
   "metadata": {},
   "outputs": [
    {
     "data": {
      "text/html": [
       "<div>\n",
       "<style scoped>\n",
       "    .dataframe tbody tr th:only-of-type {\n",
       "        vertical-align: middle;\n",
       "    }\n",
       "\n",
       "    .dataframe tbody tr th {\n",
       "        vertical-align: top;\n",
       "    }\n",
       "\n",
       "    .dataframe thead th {\n",
       "        text-align: right;\n",
       "    }\n",
       "</style>\n",
       "<table border=\"1\" class=\"dataframe\">\n",
       "  <thead>\n",
       "    <tr style=\"text-align: right;\">\n",
       "      <th></th>\n",
       "      <th>tid</th>\n",
       "      <th>loss</th>\n",
       "      <th>time</th>\n",
       "      <th>log_loss</th>\n",
       "      <th>status</th>\n",
       "    </tr>\n",
       "    <tr>\n",
       "      <th>name</th>\n",
       "      <th></th>\n",
       "      <th></th>\n",
       "      <th></th>\n",
       "      <th></th>\n",
       "      <th></th>\n",
       "    </tr>\n",
       "  </thead>\n",
       "  <tbody>\n",
       "    <tr>\n",
       "      <th>p0</th>\n",
       "      <td>0</td>\n",
       "      <td>-0.800637</td>\n",
       "      <td>1.277394</td>\n",
       "      <td>0.645044</td>\n",
       "      <td>ok</td>\n",
       "    </tr>\n",
       "    <tr>\n",
       "      <th>p1</th>\n",
       "      <td>1</td>\n",
       "      <td>-0.887314</td>\n",
       "      <td>0.215742</td>\n",
       "      <td>0.350510</td>\n",
       "      <td>ok</td>\n",
       "    </tr>\n",
       "    <tr>\n",
       "      <th>p2</th>\n",
       "      <td>2</td>\n",
       "      <td>-0.887314</td>\n",
       "      <td>0.348007</td>\n",
       "      <td>0.319841</td>\n",
       "      <td>ok</td>\n",
       "    </tr>\n",
       "    <tr>\n",
       "      <th>p3</th>\n",
       "      <td>3</td>\n",
       "      <td>-0.895903</td>\n",
       "      <td>4.260768</td>\n",
       "      <td>1.032003</td>\n",
       "      <td>ok</td>\n",
       "    </tr>\n",
       "    <tr>\n",
       "      <th>p4</th>\n",
       "      <td>4</td>\n",
       "      <td>-0.666980</td>\n",
       "      <td>0.297076</td>\n",
       "      <td>0.666688</td>\n",
       "      <td>ok</td>\n",
       "    </tr>\n",
       "  </tbody>\n",
       "</table>\n",
       "</div>"
      ],
      "text/plain": [
       "      tid      loss      time  log_loss status\n",
       "name                                          \n",
       "p0      0 -0.800637  1.277394  0.645044     ok\n",
       "p1      1 -0.887314  0.215742  0.350510     ok\n",
       "p2      2 -0.887314  0.348007  0.319841     ok\n",
       "p3      3 -0.895903  4.260768  1.032003     ok\n",
       "p4      4 -0.666980  0.297076  0.666688     ok"
      ]
     },
     "execution_count": 25,
     "metadata": {},
     "output_type": "execute_result"
    }
   ],
   "source": [
    "exp_pipe_trained.summary()"
   ]
  },
  {
   "cell_type": "code",
   "execution_count": 26,
   "metadata": {},
   "outputs": [
    {
     "data": {
      "image/svg+xml": [
       "<?xml version=\"1.0\" encoding=\"UTF-8\" standalone=\"no\"?>\n",
       "<!DOCTYPE svg PUBLIC \"-//W3C//DTD SVG 1.1//EN\"\n",
       " \"http://www.w3.org/Graphics/SVG/1.1/DTD/svg11.dtd\">\n",
       "<!-- Generated by graphviz version 2.43.0 (0)\n",
       " -->\n",
       "<!-- Title: cluster:(root) Pages: 1 -->\n",
       "<svg width=\"242pt\" height=\"45pt\"\n",
       " viewBox=\"0.00 0.00 242.00 44.77\" xmlns=\"http://www.w3.org/2000/svg\" xmlns:xlink=\"http://www.w3.org/1999/xlink\">\n",
       "<g id=\"graph0\" class=\"graph\" transform=\"scale(1 1) rotate(0) translate(4 40.77)\">\n",
       "<title>cluster:(root)</title>\n",
       "<g id=\"a_graph0\"><a xlink:title=\"(root) = ...\">\n",
       "<polygon fill=\"white\" stroke=\"transparent\" points=\"-4,4 -4,-40.77 238,-40.77 238,4 -4,4\"/>\n",
       "</a>\n",
       "</g>\n",
       "<!-- ss -->\n",
       "<g id=\"node1\" class=\"node\">\n",
       "<title>ss</title>\n",
       "<g id=\"a_node1\"><a xlink:href=\"https://lale.readthedocs.io/en/latest/modules/lale.lib.sklearn.standard_scaler.html\" xlink:title=\"ss = SS(with_mean=False)\">\n",
       "<ellipse fill=\"white\" stroke=\"black\" cx=\"27\" cy=\"-18.38\" rx=\"27\" ry=\"18\"/>\n",
       "<text text-anchor=\"middle\" x=\"27\" y=\"-15.08\" font-family=\"Times,serif\" font-size=\"11.00\">SS</text>\n",
       "</a>\n",
       "</g>\n",
       "</g>\n",
       "<!-- no_op -->\n",
       "<g id=\"node2\" class=\"node\">\n",
       "<title>no_op</title>\n",
       "<g id=\"a_node2\"><a xlink:href=\"https://lale.readthedocs.io/en/latest/modules/lale.lib.lale.no_op.html\" xlink:title=\"no_op = NoOp()\">\n",
       "<ellipse fill=\"white\" stroke=\"black\" cx=\"117\" cy=\"-18.38\" rx=\"27\" ry=\"18.27\"/>\n",
       "<text text-anchor=\"middle\" x=\"117\" y=\"-20.58\" font-family=\"Times,serif\" font-size=\"11.00\">No&#45;</text>\n",
       "<text text-anchor=\"middle\" x=\"117\" y=\"-9.58\" font-family=\"Times,serif\" font-size=\"11.00\">Op</text>\n",
       "</a>\n",
       "</g>\n",
       "</g>\n",
       "<!-- ss&#45;&gt;no_op -->\n",
       "<g id=\"edge1\" class=\"edge\">\n",
       "<title>ss&#45;&gt;no_op</title>\n",
       "<path fill=\"none\" stroke=\"black\" d=\"M54.4,-18.38C62.39,-18.38 71.31,-18.38 79.82,-18.38\"/>\n",
       "<polygon fill=\"black\" stroke=\"black\" points=\"79.92,-21.88 89.92,-18.38 79.92,-14.88 79.92,-21.88\"/>\n",
       "</g>\n",
       "<!-- knn -->\n",
       "<g id=\"node3\" class=\"node\">\n",
       "<title>knn</title>\n",
       "<g id=\"a_node3\"><a xlink:href=\"https://lale.readthedocs.io/en/latest/modules/lale.lib.sklearn.k_neighbors_classifier.html\" xlink:title=\"knn = KNN(algorithm=&#39;ball_tree&#39;, metric=&#39;euclidean&#39;, n_neighbors=11)\">\n",
       "<ellipse fill=\"white\" stroke=\"black\" cx=\"207\" cy=\"-18.38\" rx=\"27\" ry=\"18\"/>\n",
       "<text text-anchor=\"middle\" x=\"207\" y=\"-15.08\" font-family=\"Times,serif\" font-size=\"11.00\">KNN</text>\n",
       "</a>\n",
       "</g>\n",
       "</g>\n",
       "<!-- no_op&#45;&gt;knn -->\n",
       "<g id=\"edge2\" class=\"edge\">\n",
       "<title>no_op&#45;&gt;knn</title>\n",
       "<path fill=\"none\" stroke=\"black\" d=\"M144.4,-18.38C152.39,-18.38 161.31,-18.38 169.82,-18.38\"/>\n",
       "<polygon fill=\"black\" stroke=\"black\" points=\"169.92,-21.88 179.92,-18.38 169.92,-14.88 169.92,-21.88\"/>\n",
       "</g>\n",
       "</g>\n",
       "</svg>\n"
      ],
      "text/plain": [
       "<graphviz.dot.Digraph at 0x7f862afb0ac8>"
      ]
     },
     "metadata": {},
     "output_type": "display_data"
    }
   ],
   "source": [
    "exp_pipe_trained.get_pipeline().visualize()"
   ]
  },
  {
   "cell_type": "code",
   "execution_count": 27,
   "metadata": {},
   "outputs": [],
   "source": [
    "best_estimator1 = exp_pipe_trained.summary().loss.argmin()\n",
    "worst_estimator1 = exp_pipe_trained.summary().loss.argmax()"
   ]
  },
  {
   "cell_type": "code",
   "execution_count": 28,
   "metadata": {},
   "outputs": [
    {
     "name": "stdout",
     "output_type": "stream",
     "text": [
      "The best pipeline is 3 and the worst pipeline is 4\n"
     ]
    }
   ],
   "source": [
    "print(f'The best pipeline is {best_estimator1} and the worst pipeline is {worst_estimator1}')"
   ]
  },
  {
   "cell_type": "code",
   "execution_count": 31,
   "metadata": {},
   "outputs": [
    {
     "name": "stdout",
     "output_type": "stream",
     "text": [
      "accuracy 89.9%\n",
      "roc_accuracy 62.3%\n"
     ]
    }
   ],
   "source": [
    "predictions2 = exp_pipe_trained.predict(X_test_e)\n",
    "print(f'accuracy {sklearn.metrics.accuracy_score(y_test_e, predictions2):.1%}')\n",
    "print(f'roc_accuracy {sklearn.metrics.roc_auc_score(y_test_e, predictions2):.1%}')"
   ]
  },
  {
   "cell_type": "code",
   "execution_count": 33,
   "metadata": {},
   "outputs": [],
   "source": [
    "import pickle as pkl"
   ]
  },
  {
   "cell_type": "code",
   "execution_count": 34,
   "metadata": {},
   "outputs": [],
   "source": [
    "with open('trained_model.pkl', 'wb') as f:\n",
    "    a = pkl.dumps(exp_pipe_trained)\n",
    "    f.write(a)\n",
    "    f.close"
   ]
  },
  {
   "cell_type": "code",
   "execution_count": null,
   "metadata": {},
   "outputs": [],
   "source": []
  }
 ],
 "metadata": {
  "kernelspec": {
   "display_name": "Python 3",
   "language": "python",
   "name": "python3"
  },
  "language_info": {
   "codemirror_mode": {
    "name": "ipython",
    "version": 3
   },
   "file_extension": ".py",
   "mimetype": "text/x-python",
   "name": "python",
   "nbconvert_exporter": "python",
   "pygments_lexer": "ipython3",
   "version": "3.7.9"
  }
 },
 "nbformat": 4,
 "nbformat_minor": 4
}
