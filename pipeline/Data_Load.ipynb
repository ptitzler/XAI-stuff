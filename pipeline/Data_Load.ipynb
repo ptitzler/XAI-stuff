{
 "cells": [
  {
   "cell_type": "code",
   "execution_count": 1,
   "metadata": {
    "execution": {
     "iopub.execute_input": "2020-10-24T00:24:04.024473Z",
     "iopub.status.busy": "2020-10-24T00:24:04.023616Z",
     "iopub.status.idle": "2020-10-24T00:24:04.094026Z",
     "shell.execute_reply": "2020-10-24T00:24:04.094425Z"
    },
    "papermill": {
     "duration": 0.079553,
     "end_time": "2020-10-24T00:24:04.094676",
     "exception": false,
     "start_time": "2020-10-24T00:24:04.015123",
     "status": "completed"
    },
    "tags": []
   },
   "outputs": [],
   "source": [
    "import io\n",
    "import requests\n",
    "import zipfile"
   ]
  },
  {
   "cell_type": "code",
   "execution_count": 2,
   "metadata": {
    "execution": {
     "iopub.execute_input": "2020-10-24T00:24:04.103397Z",
     "iopub.status.busy": "2020-10-24T00:24:04.102761Z",
     "iopub.status.idle": "2020-10-24T00:24:04.104360Z",
     "shell.execute_reply": "2020-10-24T00:24:04.104752Z"
    },
    "papermill": {
     "duration": 0.007394,
     "end_time": "2020-10-24T00:24:04.104945",
     "exception": false,
     "start_time": "2020-10-24T00:24:04.097551",
     "status": "completed"
    },
    "tags": []
   },
   "outputs": [],
   "source": [
    "url = \"https://archive.ics.uci.edu/ml/machine-learning-databases/00222/bank-additional.zip\"\n",
    "save_path = 'data/'"
   ]
  },
  {
   "cell_type": "code",
   "execution_count": 3,
   "metadata": {
    "execution": {
     "iopub.execute_input": "2020-10-24T00:24:04.115718Z",
     "iopub.status.busy": "2020-10-24T00:24:04.115123Z",
     "iopub.status.idle": "2020-10-24T00:24:04.602211Z",
     "shell.execute_reply": "2020-10-24T00:24:04.602595Z"
    },
    "papermill": {
     "duration": 0.494818,
     "end_time": "2020-10-24T00:24:04.602765",
     "exception": false,
     "start_time": "2020-10-24T00:24:04.107947",
     "status": "completed"
    },
    "tags": []
   },
   "outputs": [
    {
     "name": "stdout",
     "output_type": "stream",
     "text": [
      "Downloading data from \"https://archive.ics.uci.edu/ml/machine-learning-databases/00222/bank-additional.zip\" ...\n"
     ]
    },
    {
     "name": "stdout",
     "output_type": "stream",
     "text": [
      "Extracting ZIP file into directory \"data/\" ...\n",
      "Done\n"
     ]
    }
   ],
   "source": [
    "print('Downloading data from \"{}\" ...'.format(url))\n",
    "r = requests.get(url, allow_redirects = True)\n",
    "if r.status_code == 200:\n",
    "    print('Extracting ZIP file into directory \"{}\" ...'.format(save_path))\n",
    "    z = zipfile.ZipFile(io.BytesIO(r.content))\n",
    "    z.extractall(save_path)\n",
    "    print('Done')\n",
    "    \n",
    "else:\n",
    "    raise Exception('Download of \"{}\"\" failed with status code {}'.format(url, r.status_code))"
   ]
  },
  {
   "cell_type": "code",
   "execution_count": null,
   "metadata": {
    "papermill": {
     "duration": 0.00285,
     "end_time": "2020-10-24T00:24:04.608747",
     "exception": false,
     "start_time": "2020-10-24T00:24:04.605897",
     "status": "completed"
    },
    "tags": []
   },
   "outputs": [],
   "source": []
  }
 ],
 "metadata": {
  "kernelspec": {
   "display_name": "Python 3",
   "language": "python",
   "name": "python3"
  },
  "language_info": {
   "codemirror_mode": {
    "name": "ipython",
    "version": 3
   },
   "file_extension": ".py",
   "mimetype": "text/x-python",
   "name": "python",
   "nbconvert_exporter": "python",
   "pygments_lexer": "ipython3",
   "version": "3.7.9"
  },
  "papermill": {
   "default_parameters": {},
   "duration": 1.542489,
   "end_time": "2020-10-24T00:24:04.824459",
   "environment_variables": {},
   "exception": null,
   "input_path": "/Users/patti/elyra_ga/workspace/aif/XAI/Elyra Build/Data_Load.ipynb",
   "output_path": "/Users/patti/elyra_ga/workspace/aif/XAI/Elyra Build/Data_Load.ipynb",
   "parameters": {},
   "start_time": "2020-10-24T00:24:03.281970",
   "version": "2.2.0"
  }
 },
 "nbformat": 4,
 "nbformat_minor": 4
}